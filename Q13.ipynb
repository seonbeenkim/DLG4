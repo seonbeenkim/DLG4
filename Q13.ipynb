{
  "nbformat": 4,
  "nbformat_minor": 0,
  "metadata": {
    "colab": {
      "provenance": [],
      "include_colab_link": true
    },
    "kernelspec": {
      "name": "python3",
      "display_name": "Python 3"
    },
    "language_info": {
      "name": "python"
    }
  },
  "cells": [
    {
      "cell_type": "markdown",
      "metadata": {
        "id": "view-in-github",
        "colab_type": "text"
      },
      "source": [
        "<a href=\"https://colab.research.google.com/github/seonbeenkim/DLG4/blob/main/Q13.ipynb\" target=\"_parent\"><img src=\"https://colab.research.google.com/assets/colab-badge.svg\" alt=\"Open In Colab\"/></a>"
      ]
    },
    {
      "cell_type": "markdown",
      "source": [
        "Q.13 Create a list called numbers. Using the random.randint() function, add five random integers to it. Then, print the list."
      ],
      "metadata": {
        "id": "q-VdlZXWp_4s"
      }
    },
    {
      "cell_type": "code",
      "execution_count": 5,
      "metadata": {
        "id": "05AS0jPhp8As",
        "colab": {
          "base_uri": "https://localhost:8080/"
        },
        "outputId": "10559898-97c8-459a-8a4e-53ce959990ab"
      },
      "outputs": [
        {
          "output_type": "stream",
          "name": "stdout",
          "text": [
            "[5, 2, 1, 6, 6]\n"
          ]
        }
      ],
      "source": [
        "\n",
        "numbers = []\n",
        "\n",
        "import random\n",
        "\n",
        "for i in range(1,6):\n",
        "  n = random.randint(0,10)\n",
        "  numbers.append(n)\n",
        "  \n",
        "print(numbers)"
      ]
    }
  ]
}